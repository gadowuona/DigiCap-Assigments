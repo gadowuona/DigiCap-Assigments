{
 "cells": [
  {
   "cell_type": "markdown",
   "id": "f3e88cb1",
   "metadata": {},
   "source": [
    "1. Write a NumPy program to create a vector of length 5 filled with arbitrary integers from 0 to 10"
   ]
  },
  {
   "cell_type": "code",
   "execution_count": 1,
   "id": "8ee12bab",
   "metadata": {},
   "outputs": [],
   "source": [
    "#Importing Numpy Library\n",
    "import numpy as np"
   ]
  },
  {
   "cell_type": "code",
   "execution_count": 2,
   "id": "417ac81b",
   "metadata": {},
   "outputs": [],
   "source": [
    "#Setting a random Seed of value 20 to ensure the random numbers are generated each time\n",
    "np.random.seed(20)"
   ]
  },
  {
   "cell_type": "code",
   "execution_count": 10,
   "id": "d05a85a0",
   "metadata": {},
   "outputs": [],
   "source": [
    "# Am using the np.random.randint function to generate a vector of length 5 filled with random integers from 0 to 10\n",
    "myvector = np.random.randint(0, 11, size=5)"
   ]
  },
  {
   "cell_type": "code",
   "execution_count": 11,
   "id": "1cd4f96a",
   "metadata": {},
   "outputs": [
    {
     "name": "stdout",
     "output_type": "stream",
     "text": [
      "[10  7  4  3  7]\n"
     ]
    }
   ],
   "source": [
    "print(myvector)"
   ]
  },
  {
   "cell_type": "markdown",
   "id": "960dc6eb",
   "metadata": {},
   "source": [
    "2. Write a NumPy program to create a vector with values ranging from 15 to 55 and print all values except the first and last."
   ]
  },
  {
   "cell_type": "code",
   "execution_count": 12,
   "id": "70945862",
   "metadata": {},
   "outputs": [],
   "source": [
    "# Since we have imported the Numpy library as np already, Create a vector with values ranging from 15 to 55 using the np.arange function\n",
    "my_vector = np.arange(15, 56)"
   ]
  },
  {
   "cell_type": "code",
   "execution_count": 13,
   "id": "576ad1b5",
   "metadata": {},
   "outputs": [
    {
     "name": "stdout",
     "output_type": "stream",
     "text": [
      "[16 17 18 19 20 21 22 23 24 25 26 27 28 29 30 31 32 33 34 35 36 37 38 39\n",
      " 40 41 42 43 44 45 46 47 48 49 50 51 52 53 54]\n"
     ]
    }
   ],
   "source": [
    "# Print all values except the first and last\n",
    "print(my_vector[1:-1])"
   ]
  },
  {
   "cell_type": "markdown",
   "id": "bece9603",
   "metadata": {},
   "source": [
    "3. Write a NumPy program to create a random array with 1000 elements and compute the average, variance, standard deviation of the array elements. "
   ]
  },
  {
   "cell_type": "markdown",
   "id": "6adbc25d",
   "metadata": {},
   "source": [
    "Since we have imported the Numpy library as np already, no need to import numpy library again"
   ]
  },
  {
   "cell_type": "code",
   "execution_count": 21,
   "id": "edeb6bc0",
   "metadata": {},
   "outputs": [],
   "source": [
    "# Let Create a random array with 1000 elements\n",
    "myarray = np.random.rand(1000)"
   ]
  },
  {
   "cell_type": "code",
   "execution_count": 22,
   "id": "267707dd",
   "metadata": {},
   "outputs": [],
   "source": [
    "# Let Compute the average, the variance, and the standard deviation and assign them to a variable\n",
    "the_average = np.mean(arr)\n",
    "the_variance = np.var(arr)\n",
    "the_std = np.std(arr)"
   ]
  },
  {
   "cell_type": "code",
   "execution_count": 23,
   "id": "3e054ebe",
   "metadata": {},
   "outputs": [
    {
     "name": "stdout",
     "output_type": "stream",
     "text": [
      "Average: 0.4902565533201336\n",
      "Variance: 0.08525889400739081\n",
      "Standard deviation: 0.291991256731072\n"
     ]
    }
   ],
   "source": [
    "# Let Print the results\n",
    "print(\"Average:\", the_average)\n",
    "print(\"Variance:\", the_variance)\n",
    "print(\"Standard deviation:\", the_std)"
   ]
  },
  {
   "cell_type": "markdown",
   "id": "2a8a2368",
   "metadata": {},
   "source": [
    "4. Write a NumPy program to calculate cumulative sum of the elements along a given axis, sum over rows for each of the 3 columns and sum over columns for each of the 2 rows of a given 3x3 array. "
   ]
  },
  {
   "cell_type": "markdown",
   "id": "39ded489",
   "metadata": {},
   "source": [
    "Since we have imported the Numpy library as np already, no need to import numpy library again\n"
   ]
  },
  {
   "cell_type": "code",
   "execution_count": 26,
   "id": "8c15599d",
   "metadata": {},
   "outputs": [],
   "source": [
    "# Let Create a 3x3 array\n",
    "my_array = np.array([[1, 2, 3],\n",
    "                [4, 5, 6],\n",
    "                [7, 8, 9]])"
   ]
  },
  {
   "cell_type": "code",
   "execution_count": 29,
   "id": "df83451e",
   "metadata": {},
   "outputs": [],
   "source": [
    "# Let Calculate the cumulative sum along the rows using the cumsum function\n",
    "my_cumsum_rows = np.cumsum(my_array, axis=1)"
   ]
  },
  {
   "cell_type": "code",
   "execution_count": 30,
   "id": "3528413f",
   "metadata": {},
   "outputs": [],
   "source": [
    "# Let Calculate the sum over rows for each column using the np.sum function\n",
    "my_sum_columns = np.sum(my_array, axis=0)"
   ]
  },
  {
   "cell_type": "code",
   "execution_count": 31,
   "id": "6c657c32",
   "metadata": {},
   "outputs": [],
   "source": [
    "# Let Calculate the sum over columns for each row\n",
    "my_sum_rows = np.sum(my_array, axis=1)"
   ]
  },
  {
   "cell_type": "code",
   "execution_count": 33,
   "id": "122004f3",
   "metadata": {},
   "outputs": [
    {
     "name": "stdout",
     "output_type": "stream",
     "text": [
      "Array:\n",
      " [[1 2 3]\n",
      " [4 5 6]\n",
      " [7 8 9]]\n",
      "Our Cumulative sum along rows:\n",
      " [[ 1  3  6]\n",
      " [ 4  9 15]\n",
      " [ 7 15 24]]\n",
      "Our Sum over rows for each column:\n",
      " [12 15 18]\n",
      "Our Sum over columns for each row:\n",
      " [ 6 15 24]\n"
     ]
    }
   ],
   "source": [
    "# We Print the results\n",
    "print(\"Array:\\n\", my_array)\n",
    "print(\"Our Cumulative sum along rows:\\n\", my_cumsum_rows)\n",
    "print(\"Our Sum over rows for each column:\\n\", my_sum_columns)\n",
    "print(\"Our Sum over columns for each row:\\n\", my_sum_rows)"
   ]
  },
  {
   "cell_type": "markdown",
   "id": "0e3c1b10",
   "metadata": {},
   "source": [
    "5. Write a NumPy program to compute the multiplication of two given matrixes. \n",
    "\n",
    "Sample Matrix: \n",
    "\n",
    "[[1, 0], [0, 1]] \n",
    "\n",
    "[[1, 2], [3, 4]] "
   ]
  },
  {
   "cell_type": "markdown",
   "id": "e98588a8",
   "metadata": {},
   "source": [
    "Since we have imported the Numpy library as np already, no need to import numpy library again"
   ]
  },
  {
   "cell_type": "code",
   "execution_count": 34,
   "id": "0e68420a",
   "metadata": {},
   "outputs": [],
   "source": [
    "# Let Create the first matrix\n",
    "matrix_1 = np.array([[1, 0],[0, 1]])"
   ]
  },
  {
   "cell_type": "code",
   "execution_count": 36,
   "id": "5eb883aa",
   "metadata": {},
   "outputs": [],
   "source": [
    "# Let Create the second matrix\n",
    "matrix_2 = np.array([[1, 2],[3, 4]])"
   ]
  },
  {
   "cell_type": "code",
   "execution_count": 37,
   "id": "02960aca",
   "metadata": {},
   "outputs": [],
   "source": [
    "# Let Compute the matrix multiplication using the matmul function\n",
    "the_result = np.matmul(matrix_1, matrix_2)"
   ]
  },
  {
   "cell_type": "code",
   "execution_count": 38,
   "id": "7fc9c82f",
   "metadata": {},
   "outputs": [
    {
     "name": "stdout",
     "output_type": "stream",
     "text": [
      "Result:\n",
      " [[1 2]\n",
      " [3 4]]\n"
     ]
    }
   ],
   "source": [
    "# Let Print the result\n",
    "print(\"Result:\\n\", the_result)"
   ]
  },
  {
   "cell_type": "code",
   "execution_count": null,
   "id": "13cdeca2",
   "metadata": {},
   "outputs": [],
   "source": []
  }
 ],
 "metadata": {
  "kernelspec": {
   "display_name": "Python 3 (ipykernel)",
   "language": "python",
   "name": "python3"
  },
  "language_info": {
   "codemirror_mode": {
    "name": "ipython",
    "version": 3
   },
   "file_extension": ".py",
   "mimetype": "text/x-python",
   "name": "python",
   "nbconvert_exporter": "python",
   "pygments_lexer": "ipython3",
   "version": "3.9.7"
  }
 },
 "nbformat": 4,
 "nbformat_minor": 5
}
